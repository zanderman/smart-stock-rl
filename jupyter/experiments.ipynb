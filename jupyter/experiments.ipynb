{
 "cells": [
  {
   "cell_type": "code",
   "execution_count": null,
   "metadata": {},
   "outputs": [],
   "source": []
  },
  {
   "cell_type": "code",
   "execution_count": 1,
   "metadata": {},
   "outputs": [],
   "source": [
    "import os\n",
    "import sys"
   ]
  },
  {
   "cell_type": "code",
   "execution_count": 2,
   "metadata": {},
   "outputs": [
    {
     "name": "stdout",
     "output_type": "stream",
     "text": [
      "NOT IN COLAB\n"
     ]
    }
   ],
   "source": [
    "# Detect if running in Google Colab environment.\n",
    "# If so, then clone/install SmartStockRL package from GitHub.\n",
    "# Otherwise, use locally.\n",
    "try:\n",
    "    import google.colab\n",
    "    print('IN COLAB')\n",
    "\n",
    "    # Clone repo.\n",
    "    repo = \"smart-stock-rl\"\n",
    "    repo_url = f\"https://github.com/zanderman/{repo}.git\"\n",
    "    repo_path = f\"/content/{repo}\"\n",
    "    !rm -rf $repo_path\n",
    "    !git clone --branch develop $repo_url\n",
    "\n",
    "    # Install repo to ensure dependencies are resolved.\n",
    "    !pip install --upgrade $repo_path\n",
    "\n",
    "    # Add package location to path.\n",
    "    sys.path.insert(0, repo_path)\n",
    "\n",
    "    # Set dataset root path.\n",
    "    dataset_root = '~/dataset'\n",
    "\n",
    "except:\n",
    "    dataset_root = '~/Desktop'\n",
    "    print('NOT IN COLAB')\n",
    "\n",
    "# Import package.\n",
    "import smart_stock as ss"
   ]
  },
  {
   "cell_type": "code",
   "execution_count": 3,
   "metadata": {},
   "outputs": [],
   "source": [
    "# Import other necessary packages after we know that imports are available.\n",
    "import gym\n",
    "import matplotlib.pyplot as plt\n",
    "import numpy as np\n",
    "import torch"
   ]
  },
  {
   "cell_type": "code",
   "execution_count": 4,
   "metadata": {},
   "outputs": [],
   "source": [
    "# Request user for Kaggle login if JSON file does not exist.\n",
    "if not os.path.exists(os.path.expanduser(\"~/.kaggle/kaggle.json\")):\n",
    "    import getpass\n",
    "    username = getpass.getpass(prompt=\"Kaggle Username: \")\n",
    "    api_key = getpass.getpass(prompt=\"Kaggle API KEY: \")\n",
    "    os.environ[\"KAGGLE_USERNAME\"] = username\n",
    "    os.environ[\"KAGGLE_KEY\"] = api_key"
   ]
  },
  {
   "cell_type": "code",
   "execution_count": 5,
   "metadata": {},
   "outputs": [],
   "source": [
    "# Install future annotations for <3.7\n",
    "if sys.version_info < (3,7):\n",
    "    !pip install future-annotations"
   ]
  },
  {
   "cell_type": "code",
   "execution_count": 6,
   "metadata": {},
   "outputs": [],
   "source": [
    "# Prepare dataset.\n",
    "stocks = ['aapl', 'nvda', 'dis', 'ko', 'pg']\n",
    "path = os.path.expanduser(dataset_root)\n",
    "dataset = ss.datasets.HugeStockMarketDataset(path)"
   ]
  },
  {
   "cell_type": "code",
   "execution_count": 7,
   "metadata": {},
   "outputs": [
    {
     "name": "stdout",
     "output_type": "stream",
     "text": [
      "<bound method DataFrame.info of             Date       Open       High        Low      Close    Volume  \\\n",
      "0     1984-09-07    0.42388    0.42902    0.41874    0.42388  23220030   \n",
      "1     1984-09-10    0.42388    0.42516    0.41366    0.42134  18022532   \n",
      "2     1984-09-11    0.42516    0.43668    0.42516    0.42902  42498199   \n",
      "3     1984-09-12    0.42902    0.43157    0.41618    0.41618  37125801   \n",
      "4     1984-09-13    0.43927    0.44052    0.43927    0.43927  57822062   \n",
      "...          ...        ...        ...        ...        ...       ...   \n",
      "8359  2017-11-06  171.75000  174.36000  171.10000  173.63000  34901241   \n",
      "8360  2017-11-07  173.29000  174.51000  173.29000  174.18000  24424877   \n",
      "8361  2017-11-08  174.03000  175.61000  173.71000  175.61000  24451166   \n",
      "8362  2017-11-09  174.48000  175.46000  172.52000  175.25000  29533086   \n",
      "8363  2017-11-10  175.11000  175.38000  174.27000  174.67000  25130494   \n",
      "\n",
      "      OpenInt  \n",
      "0           0  \n",
      "1           0  \n",
      "2           0  \n",
      "3           0  \n",
      "4           0  \n",
      "...       ...  \n",
      "8359        0  \n",
      "8360        0  \n",
      "8361        0  \n",
      "8362        0  \n",
      "8363        0  \n",
      "\n",
      "[8364 rows x 7 columns]>\n"
     ]
    }
   ],
   "source": [
    "df = dataset['aapl']\n",
    "print(df.info)"
   ]
  }
 ],
 "metadata": {
  "interpreter": {
   "hash": "1f5dbfebf7ecda7c60470f5d061f29c1474b89bbf5efc2713edb3e649aa1457f"
  },
  "kernelspec": {
   "display_name": "Python 3.9.2 64-bit ('smart-stock-rl-n_Lfzl7A': pipenv)",
   "language": "python",
   "name": "python3"
  },
  "language_info": {
   "codemirror_mode": {
    "name": "ipython",
    "version": 3
   },
   "file_extension": ".py",
   "mimetype": "text/x-python",
   "name": "python",
   "nbconvert_exporter": "python",
   "pygments_lexer": "ipython3",
   "version": "3.9.2"
  },
  "orig_nbformat": 4
 },
 "nbformat": 4,
 "nbformat_minor": 2
}
